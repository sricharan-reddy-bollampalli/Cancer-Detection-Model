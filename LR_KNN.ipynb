{
 "cells": [
  {
   "cell_type": "code",
   "execution_count": 7,
   "metadata": {},
   "outputs": [],
   "source": [
    "import pandas as pd\n",
    "import random\n",
    "import numpy as np\n",
    "import feature_engineering as feat\n",
    "import matplotlib.pyplot as plt\n",
    "from sklearn.compose import make_column_selector as selector\n",
    "from sklearn.preprocessing import OneHotEncoder\n",
    "from sklearn.model_selection import train_test_split\n",
    "\n",
    "data = pd.read_csv(\"adult.csv\", header=None, names=['age', 'workclass', 'fnlwgt', 'education', 'education-num',\n",
    "                                                    'marital-status', 'occupation', 'relationship', 'race', 'sex',\n",
    "                                                    'capital-gain', 'capital-loss', 'hours-per-week', 'native_country',\n",
    "                                                    'salary'])\n",
    "data.replace(' ?', value=np.nan, inplace=True)\n",
    "fe = feat.FeatureEngineering(data.copy())\n",
    "fe.task1()\n",
    "data = fe.ds\n",
    "\n",
    "data['age'] = pd.cut(data['age'], bins=10, right=False)\n",
    "data['fnlwgt'] = pd.cut(data['fnlwgt'], bins=10, right=False)\n",
    "data['education-num'] = pd.cut(data['education-num'], bins=10, right=False)\n",
    "data['capital-gain'] = pd.cut(data['capital-gain'], bins=10, right=False)\n",
    "data['capital-loss'] = pd.cut(data['capital-loss'], bins=10, right=False)\n",
    "data['hours-per-week'] = pd.cut(data['hours-per-week'], bins=10, right=False)\n",
    "\n",
    "data_lr = pd.read_csv(\"adult.csv\", header=None, names=['age', 'workclass', 'fnlwgt', 'education', 'education-num',\n",
    "                                     'marital-status', 'occupation', 'relationship', 'race', 'sex',\n",
    "                                     'capital-gain', 'capital-loss', 'hours-per-week', 'native_country',\n",
    "                                     'salary'])\n",
    "categorical_columns_selector = selector(dtype_include=object)\n",
    "categorical_columns = categorical_columns_selector(data)\n",
    "data_categorical = data[categorical_columns]\n",
    "encoder = OneHotEncoder(sparse_output= False)\n",
    "data_encoded = encoder.fit_transform(data_categorical)\n",
    "columns_encoded = encoder.get_feature_names_out(data_categorical.columns)\n",
    "df = pd.DataFrame(data_encoded, columns=columns_encoded)\n",
    "columns = ['age', 'fnlwgt', 'education-num', 'capital-gain', 'capital-loss', 'hours-per-week']\n",
    "data_lr = pd.concat([data_lr[columns],df], axis = 1)\n",
    "X = data_lr.drop(['salary_ >50K'], axis = 1)\n",
    "y = data_lr['salary_ >50K']\n",
    "\n",
    "seed = random.randint(1, 100)\n",
    "X_train,X_test,y_train,y_test=train_test_split(X,y,test_size=0.33,random_state=seed)"
   ]
  },
  {
   "cell_type": "code",
   "execution_count": 8,
   "metadata": {},
   "outputs": [
    {
     "name": "stdout",
     "output_type": "stream",
     "text": [
      "Accuracy: 79.26670388981947 %\n",
      "Precision: 67.75178026449645 %\n",
      "Recall: 25.84400465657741 %\n"
     ]
    }
   ],
   "source": [
    "from sklearn.linear_model import LogisticRegression\n",
    "from sklearn import metrics\n",
    "\n",
    "logreg = LogisticRegression(solver = 'liblinear')\n",
    "logreg.fit(X_train, y_train)\n",
    "\n",
    "y2 = logreg.predict(X_test)\n",
    "cnf_matrix = metrics.confusion_matrix(y_test, y2) \n",
    "print(\"Accuracy:\", 100 * metrics.accuracy_score(y_test, y2), \"%\") \n",
    "\n",
    "print(\"Precision:\", 100 * metrics.precision_score(y_test, y2), \"%\") \n",
    "\n",
    "print(\"Recall:\",100 * metrics.recall_score(y_test, y2), \"%\")"
   ]
  },
  {
   "cell_type": "code",
   "execution_count": 9,
   "metadata": {},
   "outputs": [
    {
     "name": "stdout",
     "output_type": "stream",
     "text": [
      "Accuracy: 79.10850549041504 %\n",
      "Precision: 93.6842105263158 %\n",
      "Recall: 13.814512999611953 %\n"
     ]
    }
   ],
   "source": [
    "from sklearn import neighbors\n",
    "from sklearn import metrics\n",
    "import random\n",
    "\n",
    "seed = random.randint(1, 100)\n",
    "knn = neighbors.KNeighborsClassifier(n_neighbors=seed)\n",
    "knn.fit(X_train, y_train)\n",
    "y3 = knn.predict(X_test)\n",
    "\n",
    "print(\"Accuracy:\", 100 * metrics.accuracy_score(y_test, y3), \"%\") \n",
    "\n",
    "print(\"Precision:\", 100 * metrics.precision_score(y_test, y3), \"%\") \n",
    "\n",
    "print(\"Recall:\",100 * metrics.recall_score(y_test, y3), \"%\")"
   ]
  }
 ],
 "metadata": {
  "kernelspec": {
   "display_name": "tf",
   "language": "python",
   "name": "python3"
  },
  "language_info": {
   "codemirror_mode": {
    "name": "ipython",
    "version": 3
   },
   "file_extension": ".py",
   "mimetype": "text/x-python",
   "name": "python",
   "nbconvert_exporter": "python",
   "pygments_lexer": "ipython3",
   "version": "3.10.0"
  },
  "orig_nbformat": 4
 },
 "nbformat": 4,
 "nbformat_minor": 2
}
